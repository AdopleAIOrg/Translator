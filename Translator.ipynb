{
  "nbformat": 4,
  "nbformat_minor": 0,
  "metadata": {
    "colab": {
      "provenance": [],
      "include_colab_link": true
    },
    "kernelspec": {
      "name": "python3",
      "display_name": "Python 3"
    },
    "language_info": {
      "name": "python"
    }
  },
  "cells": [
    {
      "cell_type": "markdown",
      "metadata": {
        "id": "view-in-github",
        "colab_type": "text"
      },
      "source": [
        "<a href=\"https://colab.research.google.com/github/AdopleAIOrg/Translator/blob/main/Translator.ipynb\" target=\"_parent\"><img src=\"https://colab.research.google.com/assets/colab-badge.svg\" alt=\"Open In Colab\"/></a>"
      ]
    },
    {
      "cell_type": "code",
      "execution_count": null,
      "metadata": {
        "id": "lGIIT_zNzgNk"
      },
      "outputs": [],
      "source": [
        "!pip install -r requirements.txt"
      ]
    },
    {
      "cell_type": "code",
      "source": [
        "%%writefile app.py\n",
        "import streamlit as st\n",
        "import googletrans\n",
        "\n",
        "class TranslatorApp:\n",
        "\n",
        "    def __init__(self):\n",
        "\n",
        "        \"\"\"\n",
        "        Initializes the TranslatorApp class.\n",
        "        \"\"\"\n",
        "\n",
        "        # Create an instance of the Google Translate Translator\n",
        "        self.translator = googletrans.Translator()\n",
        "\n",
        "    def _getting_key(self, val):\n",
        "        \"\"\"\n",
        "        Returns the language code for the given language name.\n",
        "\n",
        "        Args:\n",
        "            val (str): The language name.\n",
        "\n",
        "        Returns:\n",
        "            str: The language code corresponding to the language name.\n",
        "        \"\"\"\n",
        "\n",
        "        # Iterate over the language items and compare the input value with the language names\n",
        "        for key, value in googletrans.LANGUAGES.items():\n",
        "            if val == value:\n",
        "                return key\n",
        "\n",
        "        # If the language name is not found, return a message indicating that the key doesn't exist\n",
        "        return \"key doesn't exist\"\n",
        "\n",
        "    def streamlit_interface(self):\n",
        "\n",
        "        \"\"\"\n",
        "        Runs the Streamlit interface for translation.\n",
        "        \"\"\"\n",
        "\n",
        "        st.markdown(\"<h1 style='text-align: center;'>Translator</h1>\", unsafe_allow_html=True)\n",
        "        # Set the background color to blue\n",
        "        st.markdown('<style>body{background-color: Blue;}</style>', unsafe_allow_html=True)\n",
        "\n",
        "        # Create a selectbox for language selection\n",
        "        option = st.selectbox('Select Language', tuple(googletrans.LANGUAGES.values()))\n",
        "\n",
        "        # Create a text area for inputting the text\n",
        "        text = st.text_area('Input the text')\n",
        "\n",
        "        # Translate the text based on the selected language\n",
        "        translated = self.translator.translate(text, dest=self._getting_key(option))\n",
        "\n",
        "        # Display the translated text\n",
        "        st.write(translated.text)\n",
        "\n",
        "\n",
        "if __name__ == '__main__':\n",
        "    # Create an instance of TranslatorApp\n",
        "    app = TranslatorApp()\n",
        "\n",
        "    # Run the Streamlit interface\n",
        "    app.streamlit_interface()"
      ],
      "metadata": {
        "id": "tqmrxw4p1qje"
      },
      "execution_count": null,
      "outputs": []
    },
    {
      "cell_type": "code",
      "source": [
        "!streamlit run app.py & npx localtunnel --port 8501"
      ],
      "metadata": {
        "id": "rinp2idI2KBe"
      },
      "execution_count": null,
      "outputs": []
    }
  ]
}